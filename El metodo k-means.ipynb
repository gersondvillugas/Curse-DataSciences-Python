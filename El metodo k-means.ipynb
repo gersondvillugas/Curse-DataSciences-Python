{
 "cells": [
  {
   "cell_type": "markdown",
   "metadata": {},
   "source": [
    "# El metodo de k-means"
   ]
  },
  {
   "cell_type": "code",
   "execution_count": 1,
   "metadata": {},
   "outputs": [],
   "source": [
    "import numpy as np\n"
   ]
  },
  {
   "cell_type": "code",
   "execution_count": 4,
   "metadata": {},
   "outputs": [
    {
     "data": {
      "text/plain": [
       "array([[0.05734006, 0.98802053, 0.2930241 ],\n",
       "       [0.08067502, 0.63344337, 0.56712799],\n",
       "       [0.0882042 , 0.18238379, 0.78383874],\n",
       "       [0.139744  , 0.21736086, 0.70899264],\n",
       "       [0.49824798, 0.9792645 , 0.13335182],\n",
       "       [0.56305299, 0.44386883, 0.1732493 ],\n",
       "       [0.45122488, 0.24132193, 0.04331567],\n",
       "       [0.94510683, 0.25599092, 0.90950983],\n",
       "       [0.00731092, 0.97003667, 0.17729839],\n",
       "       [0.10097069, 0.36655288, 0.30298455],\n",
       "       [0.20935699, 0.7140942 , 0.77830633],\n",
       "       [0.6220082 , 0.7722637 , 0.3754507 ],\n",
       "       [0.33005504, 0.91576784, 0.80144856],\n",
       "       [0.76649612, 0.21038285, 0.62036768],\n",
       "       [0.5436347 , 0.32712001, 0.66007934],\n",
       "       [0.29068359, 0.56348391, 0.87877528],\n",
       "       [0.75067135, 0.75778986, 0.85532332],\n",
       "       [0.3026943 , 0.65308433, 0.98143832],\n",
       "       [0.7731089 , 0.42285877, 0.97160882],\n",
       "       [0.95521729, 0.32229912, 0.38278199],\n",
       "       [0.20464388, 0.11951918, 0.26660299],\n",
       "       [0.63290408, 0.00562959, 0.64807502],\n",
       "       [0.19593105, 0.05567259, 0.07251252],\n",
       "       [0.13774768, 0.5129209 , 0.14650699],\n",
       "       [0.07103611, 0.80946695, 0.68470758],\n",
       "       [0.31941432, 0.31463499, 0.60790746],\n",
       "       [0.01096347, 0.63317593, 0.69863795],\n",
       "       [0.50159639, 0.11644954, 0.25714587],\n",
       "       [0.60141028, 0.75132474, 0.9507081 ],\n",
       "       [0.27133086, 0.46178669, 0.62393732]])"
      ]
     },
     "execution_count": 4,
     "metadata": {},
     "output_type": "execute_result"
    }
   ],
   "source": [
    "data=np.random.random(90).reshape(30,3)\n",
    "data"
   ]
  },
  {
   "cell_type": "code",
   "execution_count": 7,
   "metadata": {},
   "outputs": [
    {
     "data": {
      "text/plain": [
       "array([[0.0882042 , 0.18238379, 0.78383874],\n",
       "       [0.05734006, 0.98802053, 0.2930241 ]])"
      ]
     },
     "execution_count": 7,
     "metadata": {},
     "output_type": "execute_result"
    }
   ],
   "source": [
    "c1=np.random.choice(range(len(data)))\n",
    "c2=np.random.choice(range(len(data)))\n",
    "clust_centers=np.vstack([data[c1],data[c2]])\n",
    "#baricentros \n",
    "clust_centers\n"
   ]
  },
  {
   "cell_type": "code",
   "execution_count": 8,
   "metadata": {},
   "outputs": [],
   "source": [
    "from scipy.cluster.vq   import vq"
   ]
  },
  {
   "cell_type": "code",
   "execution_count": 10,
   "metadata": {},
   "outputs": [
    {
     "data": {
      "text/plain": [
       "(array([1, 1, 0, 0, 1, 1, 0, 0, 1, 0, 0, 1, 1, 0, 0, 0, 0, 0, 0, 0, 0, 0,\n",
       "        0, 1, 1, 0, 0, 0, 0, 0]),\n",
       " array([0.        , 0.44877882, 0.        , 0.09737394, 0.4690114 ,\n",
       "        0.75245773, 0.8268205 , 0.8691912 , 0.12735295, 0.51507474,\n",
       "        0.54536645, 0.61007808, 0.58145451, 0.69827405, 0.49364147,\n",
       "        0.44186893, 0.88037771, 0.55372429, 0.74978681, 0.96547114,\n",
       "        0.53389417, 0.58853359, 0.73051064, 0.50363907, 0.4306796 ,\n",
       "        0.31921829, 0.4652299 , 0.67278957, 0.78416814, 0.37036444]))"
      ]
     },
     "execution_count": 10,
     "metadata": {},
     "output_type": "execute_result"
    }
   ],
   "source": [
    "vq(data,clust_centers)\n",
    "#primera informacion a que claster pertenece\n",
    "# segunda informacion distancia al baricentro"
   ]
  },
  {
   "cell_type": "code",
   "execution_count": 11,
   "metadata": {},
   "outputs": [],
   "source": [
    "from scipy.cluster.vq   import kmeans"
   ]
  },
  {
   "cell_type": "code",
   "execution_count": 13,
   "metadata": {},
   "outputs": [
    {
     "data": {
      "text/plain": [
       "(array([[0.48931947, 0.33805066, 0.59979843],\n",
       "        [0.19324656, 0.75409159, 0.45080409]]), 0.40664706980094406)"
      ]
     },
     "execution_count": 13,
     "metadata": {},
     "output_type": "execute_result"
    }
   ],
   "source": [
    "kmeans(data,clust_centers)\n",
    "#informacion de los baricentros"
   ]
  },
  {
   "cell_type": "code",
   "execution_count": 14,
   "metadata": {},
   "outputs": [
    {
     "data": {
      "text/plain": [
       "(array([[0.32512621, 0.73505747, 0.65140964],\n",
       "        [0.43639261, 0.24614053, 0.43892471]]), 0.39473955698873564)"
      ]
     },
     "execution_count": 14,
     "metadata": {},
     "output_type": "execute_result"
    }
   ],
   "source": [
    "kmeans(data,2)"
   ]
  },
  {
   "cell_type": "code",
   "execution_count": 18,
   "metadata": {},
   "outputs": [
    {
     "ename": "ModuleNotFoundError",
     "evalue": "No module named 'rpy2'",
     "output_type": "error",
     "traceback": [
      "\u001b[1;31m---------------------------------------------------------------------------\u001b[0m",
      "\u001b[1;31mModuleNotFoundError\u001b[0m                       Traceback (most recent call last)",
      "\u001b[1;32m<ipython-input-18-ad61f1161744>\u001b[0m in \u001b[0;36m<module>\u001b[1;34m\u001b[0m\n\u001b[1;32m----> 1\u001b[1;33m \u001b[1;32mfrom\u001b[0m \u001b[0mrpy2\u001b[0m\u001b[1;33m.\u001b[0m\u001b[0mrobjetcs\u001b[0m \u001b[1;32mimport\u001b[0m \u001b[0mpandas2ri\u001b[0m\u001b[1;33m\u001b[0m\u001b[1;33m\u001b[0m\u001b[0m\n\u001b[0m",
      "\u001b[1;31mModuleNotFoundError\u001b[0m: No module named 'rpy2'"
     ]
    }
   ],
   "source": [
    "from rpy2.robjetcs import pandas2ri"
   ]
  },
  {
   "cell_type": "code",
   "execution_count": null,
   "metadata": {},
   "outputs": [],
   "source": []
  }
 ],
 "metadata": {
  "kernelspec": {
   "display_name": "Python 3",
   "language": "python",
   "name": "python3"
  },
  "language_info": {
   "codemirror_mode": {
    "name": "ipython",
    "version": 3
   },
   "file_extension": ".py",
   "mimetype": "text/x-python",
   "name": "python",
   "nbconvert_exporter": "python",
   "pygments_lexer": "ipython3",
   "version": "3.7.3"
  }
 },
 "nbformat": 4,
 "nbformat_minor": 2
}
